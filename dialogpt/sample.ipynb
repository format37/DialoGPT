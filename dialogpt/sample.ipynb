{
 "cells": [
  {
   "cell_type": "code",
   "execution_count": 1,
   "metadata": {},
   "outputs": [],
   "source": [
    "from transformers import AutoModelForCausalLM, AutoTokenizer\n",
    "import torch"
   ]
  },
  {
   "cell_type": "code",
   "execution_count": 2,
   "metadata": {},
   "outputs": [],
   "source": [
    "tokenizer = AutoTokenizer.from_pretrained(\"microsoft/DialoGPT-large\")\n",
    "model = AutoModelForCausalLM.from_pretrained(\"microsoft/DialoGPT-large\")"
   ]
  },
  {
   "cell_type": "markdown",
   "metadata": {},
   "source": [
    "##### interact"
   ]
  },
  {
   "cell_type": "code",
   "execution_count": 3,
   "metadata": {},
   "outputs": [
    {
     "name": "stdout",
     "output_type": "stream",
     "text": [
      ">> User:How are you?\n",
      "DialoGPT: I'm good. How are you?\n",
      ">> User:Too. Where are you?\n",
      "DialoGPT: You know, I don't know.\n",
      ">> User:Do you know Bill?\n",
      "DialoGPT: No. What's he like?\n",
      ">> User:he is high and silent\n",
      "DialoGPT: That's good.\n",
      ">> User:I am not sure. Do you silent?\n",
      "DialoGPT: Not really.\n"
     ]
    }
   ],
   "source": [
    "# Let's chat for 5 lines\n",
    "for step in range(5):\n",
    "    # encode the new user input, add the eos_token and return a tensor in Pytorch\n",
    "    new_user_input_ids = tokenizer.encode(input(\">> User:\") + tokenizer.eos_token, return_tensors='pt')\n",
    "\n",
    "    # append the new user input tokens to the chat history\n",
    "    bot_input_ids = torch.cat([chat_history_ids, new_user_input_ids], dim=-1) if step > 0 else new_user_input_ids\n",
    "\n",
    "    # generated a response while limiting the total chat history to 1000 tokens, \n",
    "    chat_history_ids = model.generate(\n",
    "        bot_input_ids, \n",
    "        max_length=1000, \n",
    "        pad_token_id=tokenizer.eos_token_id,\n",
    "        no_repeat_ngram_size=3,\n",
    "        do_sample=True,\n",
    "        top_k=100,\n",
    "        top_p=0.9,\n",
    "        temperature=0.6,\n",
    "        #num_return_sequences=3,\n",
    "        device='gpu',\n",
    "        mask_token_id=tokenizer.mask_token_id,\n",
    "        eos_token_id=tokenizer.eos_token_id,\n",
    "        unk_token_id=tokenizer.unk_token_id,\n",
    "        #pad_token_id=tokenizer.pad_token_id,\n",
    "    )\n",
    "\n",
    "    # pretty print last ouput tokens from bot\n",
    "    print(\"DialoGPT: {}\".format(tokenizer.decode(chat_history_ids[:, bot_input_ids.shape[-1]:][0], skip_special_tokens=True)))"
   ]
  },
  {
   "cell_type": "markdown",
   "metadata": {},
   "source": [
    "#### one line"
   ]
  },
  {
   "cell_type": "code",
   "execution_count": 4,
   "metadata": {},
   "outputs": [
    {
     "name": "stdout",
     "output_type": "stream",
     "text": [
      "DialoGPT: I don't know.\n"
     ]
    }
   ],
   "source": [
    "user_text = \"What's your best film?\"\n",
    "# encode the new user input, add the eos_token and return a tensor in Pytorch\n",
    "new_user_input_ids = tokenizer.encode(user_text + tokenizer.eos_token, return_tensors='pt')\n",
    "# append the new user input tokens to the chat history\n",
    "bot_input_ids = torch.cat([chat_history_ids, new_user_input_ids], dim=-1) if step > 0 else new_user_input_ids\n",
    "# generated a response while limiting the total chat history to 1000 tokens, \n",
    "chat_history_ids = model.generate(bot_input_ids, max_length=1000, pad_token_id=tokenizer.eos_token_id)\n",
    "# pretty print last ouput tokens from bot\n",
    "print(\"DialoGPT: {}\".format(tokenizer.decode(chat_history_ids[:, bot_input_ids.shape[-1]:][0], skip_special_tokens=True)))"
   ]
  },
  {
   "cell_type": "markdown",
   "metadata": {},
   "source": [
    "#### multiple lines"
   ]
  },
  {
   "cell_type": "code",
   "execution_count": 5,
   "metadata": {},
   "outputs": [
    {
     "name": "stdout",
     "output_type": "stream",
     "text": [
      "DialoGPT: I'm ready for walk.\n"
     ]
    }
   ],
   "source": [
    "chat_history = \"|0|1|What weather do you like?|1|1|Sunny.|0|1|Do you ready for walk?\"\n",
    "bot_input_ids = tokenizer.encode(chat_history + tokenizer.eos_token, return_tensors='pt')\n",
    "# generated a response while limiting the total chat history to 1000 tokens, \n",
    "chat_history_ids = model.generate(bot_input_ids, max_length=1000, pad_token_id=tokenizer.eos_token_id)\n",
    "# pretty print last ouput tokens from bot\n",
    "print(\"DialoGPT: {}\".format(tokenizer.decode(chat_history_ids[:, bot_input_ids.shape[-1]:][0], skip_special_tokens=True)))"
   ]
  },
  {
   "cell_type": "markdown",
   "metadata": {},
   "source": [
    "#### updated chat history"
   ]
  },
  {
   "cell_type": "code",
   "execution_count": 6,
   "metadata": {},
   "outputs": [
    {
     "data": {
      "text/plain": [
       "\"|0|1|What weather do you like?|1|1|Sunny.|0|1|Do you ready for walk?|1|1|I'm ready for walk.\""
      ]
     },
     "execution_count": 6,
     "metadata": {},
     "output_type": "execute_result"
    }
   ],
   "source": [
    "updated_chat_history = chat_history + '|1|1|' + tokenizer.decode(chat_history_ids[:, bot_input_ids.shape[-1]:][0], skip_special_tokens=True)\n",
    "updated_chat_history"
   ]
  },
  {
   "cell_type": "markdown",
   "metadata": {},
   "source": [
    "#### interact with server"
   ]
  },
  {
   "cell_type": "code",
   "execution_count": 7,
   "metadata": {},
   "outputs": [],
   "source": [
    "import requests"
   ]
  },
  {
   "cell_type": "code",
   "execution_count": 8,
   "metadata": {},
   "outputs": [
    {
     "data": {
      "text/plain": [
       "\"I'm ready for swim.\""
      ]
     },
     "execution_count": 8,
     "metadata": {},
     "output_type": "execute_result"
    }
   ],
   "source": [
    "chat_history = \"|0|1|What weather do you like?|1|1|Sunny.|0|1|Do you ready for swim?\"\n",
    "res = requests.post('http://192.168.1.23:8083/gpt', chat_history)\n",
    "res.text"
   ]
  },
  {
   "cell_type": "markdown",
   "metadata": {},
   "source": [
    "#### extract phrases"
   ]
  },
  {
   "cell_type": "code",
   "execution_count": 13,
   "metadata": {},
   "outputs": [
    {
     "data": {
      "text/plain": [
       "[['',\n",
       "  '0',\n",
       "  '1',\n",
       "  'What weather do you like?',\n",
       "  '1',\n",
       "  '1',\n",
       "  'Sunny.',\n",
       "  '0',\n",
       "  '1',\n",
       "  \"Do you ready for walk?I'm ready for walk.\"]]"
      ]
     },
     "execution_count": 13,
     "metadata": {},
     "output_type": "execute_result"
    }
   ],
   "source": [
    "outputs = [tokenizer.decode(x, skip_special_tokens=True) for x in chat_history_ids]\n",
    "outputs = [x.split('|') for x in outputs]\n",
    "outputs"
   ]
  }
 ],
 "metadata": {
  "kernelspec": {
   "display_name": "Python 3",
   "language": "python",
   "name": "python3"
  },
  "language_info": {
   "codemirror_mode": {
    "name": "ipython",
    "version": 3
   },
   "file_extension": ".py",
   "mimetype": "text/x-python",
   "name": "python",
   "nbconvert_exporter": "python",
   "pygments_lexer": "ipython3",
   "version": "3.7.3"
  }
 },
 "nbformat": 4,
 "nbformat_minor": 4
}
